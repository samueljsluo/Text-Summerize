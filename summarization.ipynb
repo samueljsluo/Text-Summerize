{
  "nbformat": 4,
  "nbformat_minor": 0,
  "metadata": {
    "colab": {
      "name": "summarization.ipynb",
      "provenance": [],
      "authorship_tag": "ABX9TyNOaTSBEacMcek5nfUM9mx9"
    },
    "kernelspec": {
      "name": "python3",
      "display_name": "Python 3"
    },
    "language_info": {
      "name": "python"
    }
  },
  "cells": [
    {
      "cell_type": "code",
      "metadata": {
        "id": "gEwB_6hrQJhX"
      },
      "source": [
        "import spacy\n",
        "import pytextrank\n",
        "\n",
        "from nltk.tokenize import sent_tokenize\n",
        "import tensorflow_hub as hub\n",
        "from sklearn.metrics.pairwise import cosine_similarity\n",
        "import networkx as nx\n",
        "import re\n",
        "\n",
        "from summarizer import Summarizer\n",
        "\n",
        "from gensim.summarization import summarize\n",
        "\n",
        "from sklearn.metrics import pairwise_distances_argmin_min\n",
        "import numpy as np\n",
        "from sklearn.cluster import KMeans\n",
        "\n",
        "from sentence_transformers import SentenceTransformer"
      ],
      "execution_count": 1,
      "outputs": []
    },
    {
      "cell_type": "code",
      "metadata": {
        "id": "I1yaUIKPQQ5y"
      },
      "source": [
        "class pyTextRank():\n",
        "  def __init__(self):\n",
        "      self.nlp = spacy.load(\"en_core_web_lg\")\n",
        "      self.nlp.add_pipe(\"textrank\", last=True)\n",
        "      \n",
        "  def summary(self, text, limit_phrases=20, limit_sentences=5):\n",
        "      text = sentence_preprocess(text)\n",
        "      text = ' '.join(text)\n",
        "      doc = self.nlp(text)\n",
        "      res = [sent.text for sent in doc._.textrank.summary(limit_phrases=limit_phrases, limit_sentences=limit_sentences)]\n",
        "      return res\n",
        "\n",
        "\n",
        "class pageRankUSE():\n",
        "  def __init__(self):\n",
        "      module_url = \"https://tfhub.dev/google/universal-sentence-encoder/4\"\n",
        "      self.embed = hub.load(module_url)\n",
        "      \n",
        "  def summary(self, text, num_sentences=5):\n",
        "      sentences = sentence_preprocess(text)\n",
        "      sentences_embeddings = self.embed(sentences)\n",
        "      sim_matrix = cosine_similarity(sentences_embeddings)\n",
        "\n",
        "      nx_graph = nx.from_numpy_array(sim_matrix)\n",
        "      scores = nx.pagerank(nx_graph)\n",
        "      \n",
        "      ranked_sentences = sorted(((scores[i],s) for i,s in enumerate(sentences)), reverse=True)\n",
        "\n",
        "      summary = [i[1] for i in ranked_sentences[:num_sentences]]\n",
        "      return summary\n",
        "\n",
        "\n",
        "class bertSummarizer():\n",
        "  def __init__(self):\n",
        "    self.model = Summarizer()\n",
        "  \n",
        "  def summary(self, text, min_length=60):\n",
        "    result = self.model(text, min_length=min_length)\n",
        "    return [result]\n",
        "\n",
        "\n",
        "class gensimSummarizer():\n",
        "  def summary(self, text):\n",
        "    result = summarize(text, ratio=0.4)\n",
        "    return [result]\n",
        "\n",
        "\n",
        "class USEWithCluster():\n",
        "  def __init__(self):\n",
        "    module_url = \"https://tfhub.dev/google/universal-sentence-encoder/4\"\n",
        "    self.embed = hub.load(module_url)\n",
        "\n",
        "  def summary(self, text, n_clusters=10):\n",
        "    sentences = sentence_preprocess(text)\n",
        "    sentences_embeddings = self.embed(sentences)\n",
        "    return sent_closest_centroids(sentences, sentences_embeddings, n_clusters)\n",
        "\n",
        "\n",
        "class SentTransformerCluster():\n",
        "  def __init__(self):\n",
        "    self.model = SentenceTransformer('paraphrase-distilroberta-base-v1')\n",
        "\n",
        "  def summary(self, text, n_clusters=10):\n",
        "    sentences = sentence_preprocess(text)\n",
        "    sentence_embeddings = self.model.encode(sentences)\n",
        "    return sent_closest_centroids(sentences, sentence_embeddings, n_clusters)\n",
        "\n",
        "\n",
        "def sentence_preprocess(sent):\n",
        "  sentences = sent_tokenize(sent)\n",
        "  sentences = [re.sub('\\n', '', i) for i in sentences]\n",
        "  return sentences\n",
        "\n",
        "\n",
        "def sent_closest_centroids(sentences, embedding, n_clusters=10):\n",
        "  kmeans = KMeans(n_clusters=10)\n",
        "  kmeans = kmeans.fit(embedding)\n",
        "\n",
        "  n_clusters = int(np.ceil(len(embedding)**0.6))\n",
        "\n",
        "  avg = []\n",
        "  for j in range(n_clusters):\n",
        "      idx = np.where(kmeans.labels_ == j)[0]\n",
        "      avg.append(np.mean(idx))\n",
        "  closest, _ = pairwise_distances_argmin_min(kmeans.cluster_centers_, embedding)\n",
        "  ordering = sorted(range(n_clusters), key=lambda k: avg[k])\n",
        "  summary = [sentences[closest[idx]] for idx in ordering]\n",
        "  return summary"
      ],
      "execution_count": 7,
      "outputs": []
    },
    {
      "cell_type": "code",
      "metadata": {
        "id": "jIqQMFzPVsA4"
      },
      "source": [
        "text = \"\"\"\n",
        "SINCE PRESIDENT JOE Biden on March 11 directed that states make every adult eligible for a coronavirus vaccine by May 1, many states have ramped up their vaccine rollouts; \n",
        "moving up dates and announcing new eligibility to meet the president's timeline. But vaccine rollouts vary by state.\n",
        "Alaska was the first state to announce and implement eligibility for all adults on March 9. \n",
        "Mississippi has since followed suit, with all individuals 16 and older becoming eligible on March 16, while West Virginia opened up eligibility to all adults on March 22. \n",
        "All Arizonans 16 and older are eligible for a vaccine on March 24, and adults in Texas are eligible as of March 29.\n",
        "Still, most states are weeks away from opening up eligibility entirely. \n",
        "For the majority of states, elderly populations and health care workers have been prioritized, with eligibility being opened up to those with certain high-risk medical conditions and other essential workers more recently.\n",
        "But just because states make certain populations eligible does not mean those individuals will secure a vaccine anytime soon, and some populations will continue to be prioritized above others, depending on the state's approach. \n",
        "While some states have taken on an age-based vaccine rollout, others have instituted an equity-based rollout, while others have gone for a hybrid approach. \n",
        "Rhode Island, for example, is accelerating distribution of the vaccines to those living in ZIP codes disproportionately impacted by the coronavirus, and to those with certain health conditions that make them more vulnerable.\n",
        "Regardless of approach, some individuals across the country are getting vaccinated without necessarily having priority at the state level, as vaccine rollouts operate differently at the federal, state and county levels. In Delaware, for example, those 50 and older are eligible for a vaccine at local pharmacies, but not with medical providers, or at hospitals. \n",
        "And in various parts of the country others, still, are able to get a dose of a vaccine by being in the right place at the right time, such as at a grocery store as the day comes to an end, and unused vaccines run the risk of going to waste.\n",
        "\"\"\""
      ],
      "execution_count": 4,
      "outputs": []
    },
    {
      "cell_type": "code",
      "metadata": {
        "colab": {
          "base_uri": "https://localhost:8080/"
        },
        "id": "KaLvWzFNV0fI",
        "outputId": "98142f3c-1bdc-408c-e602-6c1658a8e020"
      },
      "source": [
        "textrank = pyTextRank()\n",
        "textrank.summary(text)"
      ],
      "execution_count": 8,
      "outputs": [
        {
          "output_type": "execute_result",
          "data": {
            "text/plain": [
              "[\"SINCE PRESIDENT JOE Biden on March 11 directed that states make every adult eligible for a coronavirus vaccine by May 1, many states have ramped up their vaccine rollouts; moving up dates and announcing new eligibility to meet the president's timeline.\",\n",
              " 'For the majority of states, elderly populations and health care workers have been prioritized, with eligibility being opened up to those with certain high-risk medical conditions and other essential workers more recently.',\n",
              " 'But vaccine rollouts vary by state.',\n",
              " \"But just because states make certain populations eligible does not mean those individuals will secure a vaccine anytime soon, and some populations will continue to be prioritized above others, depending on the state's approach.\",\n",
              " 'Regardless of approach, some individuals across the country are getting vaccinated without necessarily having priority at the state level, as vaccine rollouts operate differently at the federal, state and county levels.']"
            ]
          },
          "metadata": {
            "tags": []
          },
          "execution_count": 8
        }
      ]
    },
    {
      "cell_type": "code",
      "metadata": {
        "colab": {
          "base_uri": "https://localhost:8080/"
        },
        "id": "5U8jets6V8SE",
        "outputId": "9f7d7013-3ea4-47a9-cf95-bfc303412d93"
      },
      "source": [
        "PR = pageRankUSE()\n",
        "PR.summary(text)"
      ],
      "execution_count": 5,
      "outputs": [
        {
          "output_type": "stream",
          "text": [
            "INFO:absl:Using /tmp/tfhub_modules to cache modules.\n"
          ],
          "name": "stderr"
        },
        {
          "output_type": "execute_result",
          "data": {
            "text/plain": [
              "['Regardless of approach, some individuals across the country are getting vaccinated without necessarily having priority at the state level, as vaccine rollouts operate differently at the federal, state and county levels.',\n",
              " \"But just because states make certain populations eligible does not mean those individuals will secure a vaccine anytime soon, and some populations will continue to be prioritized above others, depending on the state's approach.\",\n",
              " \"SINCE PRESIDENT JOE Biden on March 11 directed that states make every adult eligible for a coronavirus vaccine by May 1, many states have ramped up their vaccine rollouts; moving up dates and announcing new eligibility to meet the president's timeline.\",\n",
              " 'All Arizonans 16 and older are eligible for a vaccine on March 24, and adults in Texas are eligible as of March 29.',\n",
              " 'In Delaware, for example, those 50 and older are eligible for a vaccine at local pharmacies, but not with medical providers, or at hospitals.']"
            ]
          },
          "metadata": {
            "tags": []
          },
          "execution_count": 5
        }
      ]
    },
    {
      "cell_type": "code",
      "metadata": {
        "colab": {
          "base_uri": "https://localhost:8080/"
        },
        "id": "jhdkCvNoWWTf",
        "outputId": "1cae4a0b-5b2f-4b25-b3d7-9c3eec002907"
      },
      "source": [
        "BS = bertSummarizer()\n",
        "BS.summary(text)"
      ],
      "execution_count": 12,
      "outputs": [
        {
          "output_type": "execute_result",
          "data": {
            "text/plain": [
              "[\"SINCE PRESIDENT JOE Biden on March 11 directed that states make every adult eligible for a coronavirus vaccine by May 1, many states have ramped up their vaccine rollouts; \\nmoving up dates and announcing new eligibility to meet the president's timeline. Still, most states are weeks away from opening up eligibility entirely. While some states have taken on an age-based vaccine rollout, others have instituted an equity-based rollout, while others have gone for a hybrid approach.\"]"
            ]
          },
          "metadata": {
            "tags": []
          },
          "execution_count": 12
        }
      ]
    },
    {
      "cell_type": "code",
      "metadata": {
        "colab": {
          "base_uri": "https://localhost:8080/"
        },
        "id": "CFlKm-o7WnEK",
        "outputId": "d7fdddff-acea-4cfe-d1f0-f6dd7267c505"
      },
      "source": [
        "GS = gensimSummarizer()\n",
        "GS.summary(text)"
      ],
      "execution_count": 13,
      "outputs": [
        {
          "output_type": "execute_result",
          "data": {
            "text/plain": [
              "[\"SINCE PRESIDENT JOE Biden on March 11 directed that states make every adult eligible for a coronavirus vaccine by May 1, many states have ramped up their vaccine rollouts; \\nMississippi has since followed suit, with all individuals 16 and older becoming eligible on March 16, while West Virginia opened up eligibility to all adults on March 22.\\nFor the majority of states, elderly populations and health care workers have been prioritized, with eligibility being opened up to those with certain high-risk medical conditions and other essential workers more recently.\\nBut just because states make certain populations eligible does not mean those individuals will secure a vaccine anytime soon, and some populations will continue to be prioritized above others, depending on the state's approach.\\nRegardless of approach, some individuals across the country are getting vaccinated without necessarily having priority at the state level, as vaccine rollouts operate differently at the federal, state and county levels.\"]"
            ]
          },
          "metadata": {
            "tags": []
          },
          "execution_count": 13
        }
      ]
    },
    {
      "cell_type": "code",
      "metadata": {
        "colab": {
          "base_uri": "https://localhost:8080/"
        },
        "id": "5TBWUMZGXMda",
        "outputId": "b61b6f7a-29df-40b3-fc3b-89aed565ac2d"
      },
      "source": [
        "USEC = USEWithCluster()\n",
        "USEC.summary(text)"
      ],
      "execution_count": 9,
      "outputs": [
        {
          "output_type": "execute_result",
          "data": {
            "text/plain": [
              "['Mississippi has since followed suit, with all individuals 16 and older becoming eligible on March 16, while West Virginia opened up eligibility to all adults on March 22.',\n",
              " 'All Arizonans 16 and older are eligible for a vaccine on March 24, and adults in Texas are eligible as of March 29.',\n",
              " 'Still, most states are weeks away from opening up eligibility entirely.',\n",
              " 'While some states have taken on an age-based vaccine rollout, others have instituted an equity-based rollout, while others have gone for a hybrid approach.',\n",
              " \"But just because states make certain populations eligible does not mean those individuals will secure a vaccine anytime soon, and some populations will continue to be prioritized above others, depending on the state's approach.\"]"
            ]
          },
          "metadata": {
            "tags": []
          },
          "execution_count": 9
        }
      ]
    },
    {
      "cell_type": "code",
      "metadata": {
        "colab": {
          "base_uri": "https://localhost:8080/"
        },
        "id": "hQQtxXCAZz1H",
        "outputId": "2181b9a3-394f-4cc1-c741-836308b92221"
      },
      "source": [
        "STC = SentTransformerCluster()\n",
        "STC.summary(text)"
      ],
      "execution_count": 10,
      "outputs": [
        {
          "output_type": "execute_result",
          "data": {
            "text/plain": [
              "['Alaska was the first state to announce and implement eligibility for all adults on March 9.',\n",
              " 'But vaccine rollouts vary by state.',\n",
              " 'For the majority of states, elderly populations and health care workers have been prioritized, with eligibility being opened up to those with certain high-risk medical conditions and other essential workers more recently.',\n",
              " 'All Arizonans 16 and older are eligible for a vaccine on March 24, and adults in Texas are eligible as of March 29.',\n",
              " 'Rhode Island, for example, is accelerating distribution of the vaccines to those living in ZIP codes disproportionately impacted by the coronavirus, and to those with certain health conditions that make them more vulnerable.']"
            ]
          },
          "metadata": {
            "tags": []
          },
          "execution_count": 10
        }
      ]
    }
  ]
}