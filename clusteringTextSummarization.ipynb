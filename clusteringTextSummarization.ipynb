{
  "nbformat": 4,
  "nbformat_minor": 0,
  "metadata": {
    "colab": {
      "name": "clusteringTextSummarization.ipynb",
      "provenance": [],
      "authorship_tag": "ABX9TyMr6exW0Ls1vkzvEfwhH69p",
      "include_colab_link": true
    },
    "kernelspec": {
      "name": "python3",
      "display_name": "Python 3"
    },
    "language_info": {
      "name": "python"
    }
  },
  "cells": [
    {
      "cell_type": "markdown",
      "metadata": {
        "id": "view-in-github",
        "colab_type": "text"
      },
      "source": [
        "<a href=\"https://colab.research.google.com/github/samueljsluo/TextSummerize/blob/main/clusteringTextSummarization.ipynb\" target=\"_parent\"><img src=\"https://colab.research.google.com/assets/colab-badge.svg\" alt=\"Open In Colab\"/></a>"
      ]
    },
    {
      "cell_type": "code",
      "metadata": {
        "id": "1LXWlJ4FR1UJ"
      },
      "source": [
        "from summarizer import Summarizer"
      ],
      "execution_count": 4,
      "outputs": []
    },
    {
      "cell_type": "code",
      "metadata": {
        "id": "5wxDl3AGSnRn"
      },
      "source": [
        "text = \"\"\"\n",
        "SINCE PRESIDENT JOE Biden on March 11 directed that states make every adult eligible for a coronavirus vaccine by May 1, many states have ramped up their vaccine rollouts; \n",
        "moving up dates and announcing new eligibility to meet the president's timeline. But vaccine rollouts vary by state.\n",
        "Alaska was the first state to announce and implement eligibility for all adults on March 9. \n",
        "Mississippi has since followed suit, with all individuals 16 and older becoming eligible on March 16, while West Virginia opened up eligibility to all adults on March 22. \n",
        "All Arizonans 16 and older are eligible for a vaccine on March 24, and adults in Texas are eligible as of March 29.\n",
        "Still, most states are weeks away from opening up eligibility entirely. \n",
        "For the majority of states, elderly populations and health care workers have been prioritized, with eligibility being opened up to those with certain high-risk medical conditions and other essential workers more recently.\n",
        "But just because states make certain populations eligible does not mean those individuals will secure a vaccine anytime soon, and some populations will continue to be prioritized above others, depending on the state's approach. \n",
        "While some states have taken on an age-based vaccine rollout, others have instituted an equity-based rollout, while others have gone for a hybrid approach. \n",
        "Rhode Island, for example, is accelerating distribution of the vaccines to those living in ZIP codes disproportionately impacted by the coronavirus, and to those with certain health conditions that make them more vulnerable.\n",
        "Regardless of approach, some individuals across the country are getting vaccinated without necessarily having priority at the state level, as vaccine rollouts operate differently at the federal, state and county levels. In Delaware, for example, those 50 and older are eligible for a vaccine at local pharmacies, but not with medical providers, or at hospitals. \n",
        "And in various parts of the country others, still, are able to get a dose of a vaccine by being in the right place at the right time, such as at a grocery store as the day comes to an end, and unused vaccines run the risk of going to waste.\n",
        "\"\"\""
      ],
      "execution_count": 5,
      "outputs": []
    },
    {
      "cell_type": "code",
      "metadata": {
        "colab": {
          "base_uri": "https://localhost:8080/"
        },
        "id": "R6jbjsWjStut",
        "outputId": "87b40cd7-6a65-46e1-ed42-85fdbb4d60ed"
      },
      "source": [
        "model = Summarizer()\n",
        "result = model(text, min_length=60)\n",
        "print(result)"
      ],
      "execution_count": 8,
      "outputs": [
        {
          "output_type": "stream",
          "text": [
            "SINCE PRESIDENT JOE Biden on March 11 directed that states make every adult eligible for a coronavirus vaccine by May 1, many states have ramped up their vaccine rollouts; \n",
            "moving up dates and announcing new eligibility to meet the president's timeline. Still, most states are weeks away from opening up eligibility entirely. While some states have taken on an age-based vaccine rollout, others have instituted an equity-based rollout, while others have gone for a hybrid approach.\n"
          ],
          "name": "stdout"
        }
      ]
    },
    {
      "cell_type": "code",
      "metadata": {
        "id": "he7H-1cRUyyF"
      },
      "source": [
        "from nltk.tokenize import sent_tokenize\n",
        "\n",
        "import tensorflow_hub as hub\n",
        "\n",
        "from sklearn.metrics.pairwise import cosine_similarity\n",
        "import networkx as nx\n",
        "\n",
        "import re"
      ],
      "execution_count": 13,
      "outputs": []
    },
    {
      "cell_type": "code",
      "metadata": {
        "id": "mr4nH3quU1TB"
      },
      "source": [
        "sentences = sent_tokenize(text)\n",
        "sentences = [re.sub('\\n', '', i) for i in sentences]"
      ],
      "execution_count": 14,
      "outputs": []
    },
    {
      "cell_type": "code",
      "metadata": {
        "colab": {
          "base_uri": "https://localhost:8080/"
        },
        "id": "mScM9W3tU4cs",
        "outputId": "3fd8abe2-678b-4dd6-cc30-a5694721dbbb"
      },
      "source": [
        "module_url = \"https://tfhub.dev/google/universal-sentence-encoder/4\"\n",
        "embed = hub.load(module_url)"
      ],
      "execution_count": 16,
      "outputs": [
        {
          "output_type": "stream",
          "text": [
            "INFO:absl:Using /tmp/tfhub_modules to cache modules.\n",
            "INFO:absl:Downloading TF-Hub Module 'https://tfhub.dev/google/universal-sentence-encoder/4'.\n",
            "INFO:absl:Downloaded https://tfhub.dev/google/universal-sentence-encoder/4, Total size: 987.47MB\n",
            "INFO:absl:Downloaded TF-Hub Module 'https://tfhub.dev/google/universal-sentence-encoder/4'.\n"
          ],
          "name": "stderr"
        }
      ]
    },
    {
      "cell_type": "code",
      "metadata": {
        "id": "MI3GAe3IVCGR"
      },
      "source": [
        "sentences_embeddings = embed(sentences)"
      ],
      "execution_count": 43,
      "outputs": []
    },
    {
      "cell_type": "code",
      "metadata": {
        "id": "QSSmMrbLUupu"
      },
      "source": [
        "from sklearn.metrics import pairwise_distances_argmin_min\n",
        "import numpy as np\n",
        "from sklearn.cluster import KMeans"
      ],
      "execution_count": 9,
      "outputs": []
    },
    {
      "cell_type": "code",
      "metadata": {
        "id": "D5v0gU8EVVNs"
      },
      "source": [
        "def sent_closest_centroids(embedding):\n",
        "  kmeans = KMeans(n_clusters=10)\n",
        "  kmeans = kmeans.fit(sentences_embeddings)\n",
        "\n",
        "  n_clusters = int(np.ceil(len(sentences_embeddings)**0.6))\n",
        "\n",
        "  avg = []\n",
        "  for j in range(n_clusters):\n",
        "      idx = np.where(kmeans.labels_ == j)[0]\n",
        "      avg.append(np.mean(idx))\n",
        "  closest, _ = pairwise_distances_argmin_min(kmeans.cluster_centers_, sentences_embeddings)\n",
        "  ordering = sorted(range(n_clusters), key=lambda k: avg[k])\n",
        "  summary = [sentences[closest[idx]] for idx in ordering]\n",
        "  return summary"
      ],
      "execution_count": 53,
      "outputs": []
    },
    {
      "cell_type": "code",
      "metadata": {
        "colab": {
          "base_uri": "https://localhost:8080/"
        },
        "id": "1S3N3K-jVpxd",
        "outputId": "7bec94a3-15d5-4b93-dc34-c733323fe990"
      },
      "source": [
        "summary = sent_closest_centroids(sentence_embeddings)\n",
        "summary"
      ],
      "execution_count": 54,
      "outputs": [
        {
          "output_type": "execute_result",
          "data": {
            "text/plain": [
              "['Alaska was the first state to announce and implement eligibility for all adults on March 9.',\n",
              " 'All Arizonans 16 and older are eligible for a vaccine on March 24, and adults in Texas are eligible as of March 29.',\n",
              " 'For the majority of states, elderly populations and health care workers have been prioritized, with eligibility being opened up to those with certain high-risk medical conditions and other essential workers more recently.',\n",
              " 'While some states have taken on an age-based vaccine rollout, others have instituted an equity-based rollout, while others have gone for a hybrid approach.',\n",
              " \"But just because states make certain populations eligible does not mean those individuals will secure a vaccine anytime soon, and some populations will continue to be prioritized above others, depending on the state's approach.\"]"
            ]
          },
          "metadata": {
            "tags": []
          },
          "execution_count": 54
        }
      ]
    },
    {
      "cell_type": "code",
      "metadata": {
        "id": "oDYamDmMdgAa"
      },
      "source": [
        "from sentence_transformers import SentenceTransformer"
      ],
      "execution_count": 39,
      "outputs": []
    },
    {
      "cell_type": "code",
      "metadata": {
        "id": "MBTTKb47eAva"
      },
      "source": [
        "model = SentenceTransformer('paraphrase-distilroberta-base-v1')"
      ],
      "execution_count": 74,
      "outputs": []
    },
    {
      "cell_type": "code",
      "metadata": {
        "id": "Cmt3at2oeLzk"
      },
      "source": [
        "sentence_embeddings = model.encode(sentences)"
      ],
      "execution_count": 70,
      "outputs": []
    },
    {
      "cell_type": "code",
      "metadata": {
        "colab": {
          "base_uri": "https://localhost:8080/"
        },
        "id": "4MZoEVo-f5gi",
        "outputId": "a94ff1e8-869e-48d3-fd3e-cb3de4658719"
      },
      "source": [
        "summary = sent_closest_centroids(sentence_embeddings)\n",
        "summary"
      ],
      "execution_count": 73,
      "outputs": [
        {
          "output_type": "execute_result",
          "data": {
            "text/plain": [
              "[\"SINCE PRESIDENT JOE Biden on March 11 directed that states make every adult eligible for a coronavirus vaccine by May 1, many states have ramped up their vaccine rollouts; moving up dates and announcing new eligibility to meet the president's timeline.\",\n",
              " 'Mississippi has since followed suit, with all individuals 16 and older becoming eligible on March 16, while West Virginia opened up eligibility to all adults on March 22.',\n",
              " 'Still, most states are weeks away from opening up eligibility entirely.',\n",
              " 'While some states have taken on an age-based vaccine rollout, others have instituted an equity-based rollout, while others have gone for a hybrid approach.',\n",
              " 'Rhode Island, for example, is accelerating distribution of the vaccines to those living in ZIP codes disproportionately impacted by the coronavirus, and to those with certain health conditions that make them more vulnerable.']"
            ]
          },
          "metadata": {
            "tags": []
          },
          "execution_count": 73
        }
      ]
    }
  ]
}