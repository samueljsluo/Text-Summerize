{
  "nbformat": 4,
  "nbformat_minor": 0,
  "metadata": {
    "colab": {
      "name": "textRankSummarization.ipynb",
      "provenance": [],
      "collapsed_sections": [],
      "authorship_tag": "ABX9TyPMT91lOiRuziXy6rzvta1H",
      "include_colab_link": true
    },
    "kernelspec": {
      "name": "python3",
      "display_name": "Python 3"
    },
    "language_info": {
      "name": "python"
    }
  },
  "cells": [
    {
      "cell_type": "markdown",
      "metadata": {
        "id": "view-in-github",
        "colab_type": "text"
      },
      "source": [
        "<a href=\"https://colab.research.google.com/github/samueljsluo/TextSummerize/blob/main/textRankSummarization.ipynb\" target=\"_parent\"><img src=\"https://colab.research.google.com/assets/colab-badge.svg\" alt=\"Open In Colab\"/></a>"
      ]
    },
    {
      "cell_type": "markdown",
      "metadata": {
        "id": "xnhQbpIvb0F6"
      },
      "source": [
        "## This notebook is aim to compare different libraries of TextRank"
      ]
    },
    {
      "cell_type": "code",
      "metadata": {
        "id": "V6gsRnBqbmP_"
      },
      "source": [
        "text = \"\"\"\n",
        "SINCE PRESIDENT JOE Biden on March 11 directed that states make every adult eligible for a coronavirus vaccine by May 1, many states have ramped up their vaccine rollouts; \n",
        "moving up dates and announcing new eligibility to meet the president's timeline. But vaccine rollouts vary by state.\n",
        "Alaska was the first state to announce and implement eligibility for all adults on March 9. \n",
        "Mississippi has since followed suit, with all individuals 16 and older becoming eligible on March 16, while West Virginia opened up eligibility to all adults on March 22. \n",
        "All Arizonans 16 and older are eligible for a vaccine on March 24, and adults in Texas are eligible as of March 29.\n",
        "Still, most states are weeks away from opening up eligibility entirely. \n",
        "For the majority of states, elderly populations and health care workers have been prioritized, with eligibility being opened up to those with certain high-risk medical conditions and other essential workers more recently.\n",
        "But just because states make certain populations eligible does not mean those individuals will secure a vaccine anytime soon, and some populations will continue to be prioritized above others, depending on the state's approach. \n",
        "While some states have taken on an age-based vaccine rollout, others have instituted an equity-based rollout, while others have gone for a hybrid approach. \n",
        "Rhode Island, for example, is accelerating distribution of the vaccines to those living in ZIP codes disproportionately impacted by the coronavirus, and to those with certain health conditions that make them more vulnerable.\n",
        "Regardless of approach, some individuals across the country are getting vaccinated without necessarily having priority at the state level, as vaccine rollouts operate differently at the federal, state and county levels. In Delaware, for example, those 50 and older are eligible for a vaccine at local pharmacies, but not with medical providers, or at hospitals. \n",
        "And in various parts of the country others, still, are able to get a dose of a vaccine by being in the right place at the right time, such as at a grocery store as the day comes to an end, and unused vaccines run the risk of going to waste.\n",
        "\"\"\""
      ],
      "execution_count": null,
      "outputs": []
    },
    {
      "cell_type": "markdown",
      "metadata": {
        "id": "EjXjzRDEbO2b"
      },
      "source": [
        "## TextRank by pytextrank and SpaCy"
      ]
    },
    {
      "cell_type": "code",
      "metadata": {
        "id": "XWNUThVoaOWT"
      },
      "source": [
        "import spacy\n",
        "import pytextrank"
      ],
      "execution_count": null,
      "outputs": []
    },
    {
      "cell_type": "code",
      "metadata": {
        "id": "9g0bElVQahAk"
      },
      "source": [
        "nlp = spacy.load(\"en_core_web_lg\")\n",
        "\n",
        "nlp.add_pipe(\"textrank\", last=True)\n",
        "doc = nlp(text)"
      ],
      "execution_count": null,
      "outputs": []
    },
    {
      "cell_type": "code",
      "metadata": {
        "colab": {
          "base_uri": "https://localhost:8080/"
        },
        "id": "g5jksr3IbHcS",
        "outputId": "28b72707-2e2e-4613-de38-a1deb35ca783"
      },
      "source": [
        "for sent in doc._.textrank.summary(limit_phrases=20, limit_sentences=5):\n",
        "     print(sent)"
      ],
      "execution_count": null,
      "outputs": [
        {
          "output_type": "stream",
          "text": [
            "\n",
            "SINCE PRESIDENT JOE Biden on March 11 directed that states make every adult eligible for a coronavirus vaccine by May 1, many states have ramped up their vaccine rollouts; \n",
            "moving up dates and announcing new eligibility to meet the president's timeline.\n",
            "For the majority of states, elderly populations and health care workers have been prioritized, with eligibility being opened up to those with certain high-risk medical conditions and other essential workers more recently.\n",
            "But vaccine rollouts vary by state.\n",
            "But just because states make certain populations eligible does not mean those individuals will secure a vaccine anytime soon, and some populations will continue to be prioritized above others, depending on the state's approach.\n",
            "Regardless of approach, some individuals across the country are getting vaccinated without necessarily having priority at the state level, as vaccine rollouts operate differently at the federal, state and county levels.\n"
          ],
          "name": "stdout"
        }
      ]
    },
    {
      "cell_type": "markdown",
      "metadata": {
        "id": "QZCndCKreR3B"
      },
      "source": [
        "## TextRank by pagerank and Universal Sentence Embedding"
      ]
    },
    {
      "cell_type": "code",
      "metadata": {
        "id": "-4dGRqCecNea"
      },
      "source": [
        "from nltk.tokenize import sent_tokenize\n",
        "\n",
        "import tensorflow_hub as hub\n",
        "\n",
        "from sklearn.metrics.pairwise import cosine_similarity\n",
        "import networkx as nx\n",
        "\n",
        "import re"
      ],
      "execution_count": null,
      "outputs": []
    },
    {
      "cell_type": "code",
      "metadata": {
        "id": "OPx_NKEtcgGt"
      },
      "source": [
        "sentences = sent_tokenize(text)\n",
        "sentences = [re.sub('\\n', '', i) for i in sentences]"
      ],
      "execution_count": null,
      "outputs": []
    },
    {
      "cell_type": "code",
      "metadata": {
        "id": "IPnCWFvccxVw"
      },
      "source": [
        "module_url = \"https://tfhub.dev/google/universal-sentence-encoder/4\"\n",
        "embed = hub.load(module_url)"
      ],
      "execution_count": null,
      "outputs": []
    },
    {
      "cell_type": "code",
      "metadata": {
        "id": "S_0er7Pxc0Bs"
      },
      "source": [
        "sentences_embeddings = embed(sentences)\n",
        "\n",
        "sim_matrix = cosine_similarity(sentences_embeddings)\n",
        "\n",
        "nx_graph = nx.from_numpy_array(sim_matrix)\n",
        "scores = nx.pagerank(nx_graph)"
      ],
      "execution_count": null,
      "outputs": []
    },
    {
      "cell_type": "code",
      "metadata": {
        "colab": {
          "base_uri": "https://localhost:8080/"
        },
        "id": "25dt2Rf8c75L",
        "outputId": "6a362ecc-83cf-4260-d7cc-880293de0dbd"
      },
      "source": [
        "ranked_sentences = sorted(((scores[i],s) for i,s in enumerate(sentences)), reverse=True)\n",
        "\n",
        "num_of_sentences = 5\n",
        "summary = [i[1] for i in ranked_sentences[:num_of_sentences]]\n",
        "summary"
      ],
      "execution_count": null,
      "outputs": [
        {
          "output_type": "execute_result",
          "data": {
            "text/plain": [
              "['Regardless of approach, some individuals across the country are getting vaccinated without necessarily having priority at the state level, as vaccine rollouts operate differently at the federal, state and county levels.',\n",
              " \"But just because states make certain populations eligible does not mean those individuals will secure a vaccine anytime soon, and some populations will continue to be prioritized above others, depending on the state's approach.\",\n",
              " \"SINCE PRESIDENT JOE Biden on March 11 directed that states make every adult eligible for a coronavirus vaccine by May 1, many states have ramped up their vaccine rollouts; moving up dates and announcing new eligibility to meet the president's timeline.\",\n",
              " 'All Arizonans 16 and older are eligible for a vaccine on March 24, and adults in Texas are eligible as of March 29.',\n",
              " 'In Delaware, for example, those 50 and older are eligible for a vaccine at local pharmacies, but not with medical providers, or at hospitals.']"
            ]
          },
          "metadata": {
            "tags": []
          },
          "execution_count": 43
        }
      ]
    },
    {
      "cell_type": "markdown",
      "metadata": {
        "id": "j6VWknqwehco"
      },
      "source": [
        "## TextRank by Gensim"
      ]
    },
    {
      "cell_type": "code",
      "metadata": {
        "id": "kN9a1ypLdL1b"
      },
      "source": [
        "from gensim.summarization import summarize"
      ],
      "execution_count": null,
      "outputs": []
    },
    {
      "cell_type": "code",
      "metadata": {
        "colab": {
          "base_uri": "https://localhost:8080/"
        },
        "id": "LdDo4AH5dQiN",
        "outputId": "81f2e3bd-839b-41bd-cbfa-be9d44160c79"
      },
      "source": [
        "print(summarize(text, ratio=0.4))"
      ],
      "execution_count": null,
      "outputs": [
        {
          "output_type": "stream",
          "text": [
            "SINCE PRESIDENT JOE Biden on March 11 directed that states make every adult eligible for a coronavirus vaccine by May 1, many states have ramped up their vaccine rollouts; \n",
            "Mississippi has since followed suit, with all individuals 16 and older becoming eligible on March 16, while West Virginia opened up eligibility to all adults on March 22.\n",
            "For the majority of states, elderly populations and health care workers have been prioritized, with eligibility being opened up to those with certain high-risk medical conditions and other essential workers more recently.\n",
            "But just because states make certain populations eligible does not mean those individuals will secure a vaccine anytime soon, and some populations will continue to be prioritized above others, depending on the state's approach.\n",
            "Regardless of approach, some individuals across the country are getting vaccinated without necessarily having priority at the state level, as vaccine rollouts operate differently at the federal, state and county levels.\n"
          ],
          "name": "stdout"
        }
      ]
    }
  ]
}